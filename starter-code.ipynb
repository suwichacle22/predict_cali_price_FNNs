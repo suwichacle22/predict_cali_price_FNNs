{
 "cells": [
  {
   "cell_type": "markdown",
   "metadata": {},
   "source": [
    "<img src=\"http://imgur.com/1ZcRyrc.png\" style=\"float: left; margin: 20px; height: 55px\">\n",
    "\n",
    "# Intro to Regression with Tensorflow & Keras\n",
    "\n",
    "_Author: Unknown_\n",
    "\n",
    "------\n",
    "\n",
    "**OBJECTIVES**\n",
    "\n",
    "- Build regression models using `tensorflow` & `keras`\n",
    "- Refine models by adjusting the architecture of a network\n",
    "- Use regularization to attempt performance improvement\n",
    "- Save and reuse the model"
   ]
  },
  {
   "cell_type": "code",
   "execution_count": 1,
   "metadata": {},
   "outputs": [],
   "source": [
    "import pandas as pd\n",
    "import numpy as np\n",
    "import matplotlib.pyplot as plt\n",
    "import seaborn as sns\n",
    "\n",
    "from sklearn.datasets import fetch_california_housing\n",
    "from sklearn.model_selection import train_test_split\n",
    "from sklearn.preprocessing import StandardScaler\n",
    "from sklearn.metrics import mean_squared_error\n",
    " \n",
    "from tensorflow.keras.models import Sequential\n",
    "from tensorflow.keras.layers import Dense, Dropout, BatchNormalization\n",
    "from tensorflow.keras.regularizers import l2\n",
    "from tensorflow.keras.callbacks import EarlyStopping"
   ]
  },
  {
   "cell_type": "code",
   "execution_count": 2,
   "metadata": {},
   "outputs": [],
   "source": [
    "# import data\n",
    "cali = fetch_california_housing()\n",
    "X, y = cali.data, cali.target"
   ]
  },
  {
   "cell_type": "markdown",
   "metadata": {},
   "source": [
    "### Part 1\n",
    "\n",
    "Load the california housing data and create a dataframe called `cali_df` below.  Make sure to add the target feature and name this `price`. "
   ]
  },
  {
   "cell_type": "code",
   "execution_count": 3,
   "metadata": {},
   "outputs": [],
   "source": [
    "# store data in dataframe form\n",
    "cali_df = pd.DataFrame(X, columns=cali.feature_names)\n",
    "price = pd.concat([cali_df, pd.DataFrame(y, columns=cali.target_names)], axis=1)"
   ]
  },
  {
   "cell_type": "code",
   "execution_count": 4,
   "metadata": {},
   "outputs": [],
   "source": [
    "# change columns name to lower\n",
    "price.columns = price.columns.str.lower()"
   ]
  },
  {
   "cell_type": "code",
   "execution_count": 5,
   "metadata": {},
   "outputs": [
    {
     "data": {
      "text/html": [
       "<div>\n",
       "<style scoped>\n",
       "    .dataframe tbody tr th:only-of-type {\n",
       "        vertical-align: middle;\n",
       "    }\n",
       "\n",
       "    .dataframe tbody tr th {\n",
       "        vertical-align: top;\n",
       "    }\n",
       "\n",
       "    .dataframe thead th {\n",
       "        text-align: right;\n",
       "    }\n",
       "</style>\n",
       "<table border=\"1\" class=\"dataframe\">\n",
       "  <thead>\n",
       "    <tr style=\"text-align: right;\">\n",
       "      <th></th>\n",
       "      <th>medinc</th>\n",
       "      <th>houseage</th>\n",
       "      <th>averooms</th>\n",
       "      <th>avebedrms</th>\n",
       "      <th>population</th>\n",
       "      <th>aveoccup</th>\n",
       "      <th>latitude</th>\n",
       "      <th>longitude</th>\n",
       "      <th>medhouseval</th>\n",
       "    </tr>\n",
       "  </thead>\n",
       "  <tbody>\n",
       "    <tr>\n",
       "      <th>0</th>\n",
       "      <td>8.3252</td>\n",
       "      <td>41.0</td>\n",
       "      <td>6.984127</td>\n",
       "      <td>1.023810</td>\n",
       "      <td>322.0</td>\n",
       "      <td>2.555556</td>\n",
       "      <td>37.88</td>\n",
       "      <td>-122.23</td>\n",
       "      <td>4.526</td>\n",
       "    </tr>\n",
       "    <tr>\n",
       "      <th>1</th>\n",
       "      <td>8.3014</td>\n",
       "      <td>21.0</td>\n",
       "      <td>6.238137</td>\n",
       "      <td>0.971880</td>\n",
       "      <td>2401.0</td>\n",
       "      <td>2.109842</td>\n",
       "      <td>37.86</td>\n",
       "      <td>-122.22</td>\n",
       "      <td>3.585</td>\n",
       "    </tr>\n",
       "    <tr>\n",
       "      <th>2</th>\n",
       "      <td>7.2574</td>\n",
       "      <td>52.0</td>\n",
       "      <td>8.288136</td>\n",
       "      <td>1.073446</td>\n",
       "      <td>496.0</td>\n",
       "      <td>2.802260</td>\n",
       "      <td>37.85</td>\n",
       "      <td>-122.24</td>\n",
       "      <td>3.521</td>\n",
       "    </tr>\n",
       "    <tr>\n",
       "      <th>3</th>\n",
       "      <td>5.6431</td>\n",
       "      <td>52.0</td>\n",
       "      <td>5.817352</td>\n",
       "      <td>1.073059</td>\n",
       "      <td>558.0</td>\n",
       "      <td>2.547945</td>\n",
       "      <td>37.85</td>\n",
       "      <td>-122.25</td>\n",
       "      <td>3.413</td>\n",
       "    </tr>\n",
       "    <tr>\n",
       "      <th>4</th>\n",
       "      <td>3.8462</td>\n",
       "      <td>52.0</td>\n",
       "      <td>6.281853</td>\n",
       "      <td>1.081081</td>\n",
       "      <td>565.0</td>\n",
       "      <td>2.181467</td>\n",
       "      <td>37.85</td>\n",
       "      <td>-122.25</td>\n",
       "      <td>3.422</td>\n",
       "    </tr>\n",
       "  </tbody>\n",
       "</table>\n",
       "</div>"
      ],
      "text/plain": [
       "   medinc  houseage  averooms  avebedrms  population  aveoccup  latitude  \\\n",
       "0  8.3252      41.0  6.984127   1.023810       322.0  2.555556     37.88   \n",
       "1  8.3014      21.0  6.238137   0.971880      2401.0  2.109842     37.86   \n",
       "2  7.2574      52.0  8.288136   1.073446       496.0  2.802260     37.85   \n",
       "3  5.6431      52.0  5.817352   1.073059       558.0  2.547945     37.85   \n",
       "4  3.8462      52.0  6.281853   1.081081       565.0  2.181467     37.85   \n",
       "\n",
       "   longitude  medhouseval  \n",
       "0    -122.23        4.526  \n",
       "1    -122.22        3.585  \n",
       "2    -122.24        3.521  \n",
       "3    -122.25        3.413  \n",
       "4    -122.25        3.422  "
      ]
     },
     "execution_count": 5,
     "metadata": {},
     "output_type": "execute_result"
    }
   ],
   "source": [
    "# display 5 row\n",
    "price.head()"
   ]
  },
  {
   "cell_type": "code",
   "execution_count": 6,
   "metadata": {},
   "outputs": [
    {
     "name": "stdout",
     "output_type": "stream",
     "text": [
      "<class 'pandas.core.frame.DataFrame'>\n",
      "RangeIndex: 20640 entries, 0 to 20639\n",
      "Data columns (total 9 columns):\n",
      " #   Column       Non-Null Count  Dtype  \n",
      "---  ------       --------------  -----  \n",
      " 0   medinc       20640 non-null  float64\n",
      " 1   houseage     20640 non-null  float64\n",
      " 2   averooms     20640 non-null  float64\n",
      " 3   avebedrms    20640 non-null  float64\n",
      " 4   population   20640 non-null  float64\n",
      " 5   aveoccup     20640 non-null  float64\n",
      " 6   latitude     20640 non-null  float64\n",
      " 7   longitude    20640 non-null  float64\n",
      " 8   medhouseval  20640 non-null  float64\n",
      "dtypes: float64(9)\n",
      "memory usage: 1.4 MB\n"
     ]
    }
   ],
   "source": [
    "# check info of df\n",
    "price.info()\n",
    "\n",
    "# no missing value\n",
    "# all features are correct type"
   ]
  },
  {
   "cell_type": "code",
   "execution_count": 7,
   "metadata": {},
   "outputs": [
    {
     "data": {
      "image/png": "[encoded data removed]",
      "text/plain": [
       "<Figure size 432x288 with 2 Axes>"
      ]
     },
     "metadata": {
      "needs_background": "light"
     },
     "output_type": "display_data"
    }
   ],
   "source": [
    "# check correlation each variable to target(medhouseval)\n",
    "sns.heatmap(price.corr()[['medhouseval']], annot=True, cmap='coolwarm');"
   ]
  },
  {
   "cell_type": "markdown",
   "metadata": {},
   "source": [
    "### Part 2\n",
    "\n",
    "Create a train/test split using some of the features in your X and setting y to be the `price` column."
   ]
  },
  {
   "cell_type": "code",
   "execution_count": 8,
   "metadata": {},
   "outputs": [],
   "source": [
    "# create X and y which drop latitude and longtitude\n",
    "X = price.drop(columns=['latitude', 'longitude', 'medhouseval'])\n",
    "y = price['medhouseval']"
   ]
  },
  {
   "cell_type": "code",
   "execution_count": 9,
   "metadata": {},
   "outputs": [],
   "source": [
    "# train test split\n",
    "X_train_1, X_test_1, y_train_1, y_test_1 = train_test_split(X, y, random_state=42)"
   ]
  },
  {
   "cell_type": "code",
   "execution_count": 10,
   "metadata": {},
   "outputs": [],
   "source": [
    "# Standardization\n",
    "sc = StandardScaler()\n",
    "X_train_sc_1 = sc.fit_transform(X_train_1)\n",
    "X_test_sc_1 = sc.transform(X_test_1)"
   ]
  },
  {
   "cell_type": "markdown",
   "metadata": {},
   "source": [
    "### Part 3\n",
    "\n",
    "Setup a `Sequential` model with one layer containing 24 nodes.  Make sure to include the output layer and use a `ReLU` activation for the hidden layer."
   ]
  },
  {
   "cell_type": "code",
   "execution_count": 11,
   "metadata": {},
   "outputs": [
    {
     "data": {
      "text/plain": [
       "(20640, 6)"
      ]
     },
     "execution_count": 11,
     "metadata": {},
     "output_type": "execute_result"
    }
   ],
   "source": [
    "# check shape for assign input shape\n",
    "X.shape"
   ]
  },
  {
   "cell_type": "code",
   "execution_count": 12,
   "metadata": {},
   "outputs": [],
   "source": [
    "# create simple FNNs \n",
    "# input --> hidden 24 nodes --> output use relu in activation\n",
    "model = Sequential()\n",
    "\n",
    "# input layer\n",
    "model.add(Dense(8, activation='relu', input_shape=(6,)))\n",
    "# hidden layer\n",
    "model.add(Dense(24, activation='relu'))\n",
    "# output layer\n",
    "model.add(Dense(1, activation=None))"
   ]
  },
  {
   "cell_type": "markdown",
   "metadata": {},
   "source": [
    "Set up the compilation of the network.  Use an `adam` optimizer and appropriate loss function with the mean squared error metric."
   ]
  },
  {
   "cell_type": "code",
   "execution_count": 13,
   "metadata": {},
   "outputs": [],
   "source": [
    "# use adam for optimizer\n",
    "model.compile(loss='mean_squared_error', optimizer='adam')"
   ]
  },
  {
   "cell_type": "markdown",
   "metadata": {},
   "source": [
    "### Part 4\n",
    "\n",
    "Fit the model on the training data with 100 epochs (and sequester the output with `verbose = 0`). Save the fit model to the variable `history`."
   ]
  },
  {
   "cell_type": "code",
   "execution_count": 14,
   "metadata": {},
   "outputs": [],
   "source": [
    "# fit model with epoch 100\n",
    "history = model.fit(X_train_sc_1, y_train_1,\n",
    "                   epochs=100,\n",
    "                   batch_size=2048,\n",
    "                   validation_data=(X_test_sc_1, y_test_1),\n",
    "                   verbose=0)"
   ]
  },
  {
   "cell_type": "markdown",
   "metadata": {},
   "source": [
    "### Part 5\n",
    "\n",
    "Use `matplotlib` to plot the training loss and validation loss, and the training mean squared error alongside the validation data.  Side by side subplots please."
   ]
  },
  {
   "cell_type": "code",
   "execution_count": 15,
   "metadata": {},
   "outputs": [],
   "source": [
    "# create function for plot loss in model\n",
    "def plot_loss(model):\n",
    "    print(f\"Loss Train {model.history['loss'][-1]}, Loss Test {model.history['val_loss'][-1]}\")\n",
    "    plt.plot(model.history['loss'], label='Train')\n",
    "    plt.plot(model.history['val_loss'], label='Test')\n",
    "    plt.xlabel('Epochs')\n",
    "    plt.ylabel('Loss')\n",
    "    plt.legend();"
   ]
  },
  {
   "cell_type": "code",
   "execution_count": 16,
   "metadata": {},
   "outputs": [
    {
     "name": "stdout",
     "output_type": "stream",
     "text": [
      "Loss Train 0.5607776045799255, Loss Test 0.5701339244842529\n"
     ]
    },
    {
     "data": {
      "image/png": "[encoded data removed]",
      "text/plain": [
       "<Figure size 432x288 with 1 Axes>"
      ]
     },
     "metadata": {
      "needs_background": "light"
     },
     "output_type": "display_data"
    }
   ],
   "source": [
    "# No overfitting\n",
    "plot_loss(history)"
   ]
  },
  {
   "cell_type": "markdown",
   "metadata": {},
   "source": [
    "### Part 6\n",
    "\n",
    "Let's make a second network that is a bit deeper and more complex. Also, let's now use all the features and see if we help the model.  Use 3 layers, with 64, 128, and 64 nodes respectively in the hidden layers and a `ReLU` activation function."
   ]
  },
  {
   "cell_type": "code",
   "execution_count": 17,
   "metadata": {},
   "outputs": [],
   "source": [
    "# create X and y\n",
    "X = price.drop(columns=['medhouseval'])\n",
    "y = price['medhouseval']"
   ]
  },
  {
   "cell_type": "code",
   "execution_count": 18,
   "metadata": {},
   "outputs": [],
   "source": [
    "# train test split\n",
    "X_train, X_test, y_train, y_test = train_test_split(X, y, random_state=42)"
   ]
  },
  {
   "cell_type": "code",
   "execution_count": 19,
   "metadata": {},
   "outputs": [],
   "source": [
    "# Standardization\n",
    "sc = StandardScaler()\n",
    "X_train_sc = sc.fit_transform(X_train)\n",
    "X_test_sc = sc.transform(X_test)"
   ]
  },
  {
   "cell_type": "code",
   "execution_count": 20,
   "metadata": {},
   "outputs": [],
   "source": [
    "# model_2\n",
    "# input --> hidden 64, 128, 64 nodes --> output use relu in activation\n",
    "model_2 = Sequential()\n",
    "\n",
    "# input layer\n",
    "model_2.add(Dense(8, activation='relu', input_shape=(8,)))\n",
    "# hidden layer\n",
    "model_2.add(Dense(64, activation='relu'))\n",
    "model_2.add(Dense(128, activation='relu'))\n",
    "model_2.add(Dense(64, activation='relu'))\n",
    "# output layer\n",
    "model_2.add(Dense(1, activation=None))"
   ]
  },
  {
   "cell_type": "code",
   "execution_count": 21,
   "metadata": {},
   "outputs": [],
   "source": [
    "# use adam for optimizer\n",
    "model_2.compile(loss='mean_squared_error', optimizer='adam')"
   ]
  },
  {
   "cell_type": "code",
   "execution_count": 22,
   "metadata": {},
   "outputs": [],
   "source": [
    "# fit model with epoch 100\n",
    "history_2 = model_2.fit(X_train_sc, y_train,\n",
    "                   epochs=100,\n",
    "                   batch_size=128,\n",
    "                   validation_data=(X_test_sc, y_test),\n",
    "                   verbose=0)"
   ]
  },
  {
   "cell_type": "code",
   "execution_count": 23,
   "metadata": {},
   "outputs": [
    {
     "name": "stdout",
     "output_type": "stream",
     "text": [
      "Loss Train 0.23001955449581146, Loss Test 0.273868203163147\n"
     ]
    },
    {
     "data": {
      "image/png": "[encoded data removed]",
      "text/plain": [
       "<Figure size 432x288 with 1 Axes>"
      ]
     },
     "metadata": {
      "needs_background": "light"
     },
     "output_type": "display_data"
    }
   ],
   "source": [
    "# plot loss and model perform better which decrease loss rate and has chance of overfitting\n",
    "# it different around 5% to train and test\n",
    "plot_loss(history_2)"
   ]
  },
  {
   "cell_type": "markdown",
   "metadata": {},
   "source": [
    "### Part 7\n",
    "\n",
    "Add a `BatchNormalization` layer prior to our first dense layer in the network above and repeat the fit."
   ]
  },
  {
   "cell_type": "markdown",
   "metadata": {},
   "source": [
    "##### Does this change anything?"
   ]
  },
  {
   "cell_type": "code",
   "execution_count": 24,
   "metadata": {},
   "outputs": [],
   "source": [
    "# model_3\n",
    "# input --> batchnormalization --> hidden 64, 128, 64 nodes --> output use relu in activation\n",
    "model_3 = Sequential()\n",
    "\n",
    "# input layer\n",
    "model_3.add(Dense(8, activation='relu', input_shape=(8,)))\n",
    "# hidden layer\n",
    "model_3.add(BatchNormalization())\n",
    "model_3.add(Dense(64, activation='relu'))\n",
    "model_3.add(Dense(128, activation='relu'))\n",
    "model_3.add(Dense(64, activation='relu'))\n",
    "# output layer\n",
    "model_3.add(Dense(1, activation=None))"
   ]
  },
  {
   "cell_type": "code",
   "execution_count": 25,
   "metadata": {},
   "outputs": [],
   "source": [
    "# use adam for optimizer\n",
    "model_3.compile(loss='mean_squared_error', optimizer='adam')"
   ]
  },
  {
   "cell_type": "code",
   "execution_count": 26,
   "metadata": {},
   "outputs": [],
   "source": [
    "# fit model with epoch 100\n",
    "history_3 = model_3.fit(X_train_sc, y_train,\n",
    "                   epochs=100,\n",
    "                   batch_size=128,\n",
    "                   validation_data=(X_test_sc, y_test),\n",
    "                   verbose=0)"
   ]
  },
  {
   "cell_type": "code",
   "execution_count": 27,
   "metadata": {},
   "outputs": [
    {
     "name": "stdout",
     "output_type": "stream",
     "text": [
      "Loss Train 0.24945305287837982, Loss Test 0.34202682971954346\n"
     ]
    },
    {
     "data": {
      "image/png": "[encoded data removed]",
      "text/plain": [
       "<Figure size 432x288 with 1 Axes>"
      ]
     },
     "metadata": {
      "needs_background": "light"
     },
     "output_type": "display_data"
    }
   ],
   "source": [
    "# loss rates have increase 6% compare to model_2 and have chance be overfitting it different around 10%\n",
    "plot_loss(history_3)"
   ]
  },
  {
   "cell_type": "markdown",
   "metadata": {},
   "source": [
    "### Part 8\n",
    "\n",
    "Early Stopping.  It seems that we may not need all 100 epochs to train the data.  Include an `EarlyStopping` callback in your model from above.  Set the `patience` equal to 5.  How many epochs do you think are appropriate?"
   ]
  },
  {
   "cell_type": "code",
   "execution_count": 28,
   "metadata": {},
   "outputs": [],
   "source": [
    "# early stopping\n",
    "es = EarlyStopping(patience=5)\n",
    "# model_4\n",
    "# early stoping with 5 patiences --> input --> batchnormalization \n",
    "# --> hidden 64, 128, 64 nodes --> output use relu in activation\n",
    "model_4 = Sequential()\n",
    "\n",
    "# input layer\n",
    "model_4.add(Dense(8, activation='relu', input_shape=(8,)))\n",
    "# hidden layer\n",
    "model_4.add(BatchNormalization())\n",
    "model_4.add(Dense(64, activation='relu'))\n",
    "model_4.add(Dense(128, activation='relu'))\n",
    "model_4.add(Dense(64, activation='relu'))\n",
    "# output layer\n",
    "model_4.add(Dense(1, activation=None))"
   ]
  },
  {
   "cell_type": "code",
   "execution_count": 29,
   "metadata": {},
   "outputs": [],
   "source": [
    "# use adam for optimizer\n",
    "model_4.compile(loss='mean_squared_error', optimizer='adam')"
   ]
  },
  {
   "cell_type": "code",
   "execution_count": 30,
   "metadata": {},
   "outputs": [],
   "source": [
    "# epoch should be around 80 - 100 if model didn't perform better earlystopping will stop for us\n",
    "history_4 = model_4.fit(X_train_sc, y_train,\n",
    "                   epochs=80,\n",
    "                   batch_size=128,\n",
    "                   validation_data=(X_test_sc, y_test),\n",
    "                   callbacks=[es],\n",
    "                   verbose=0)"
   ]
  },
  {
   "cell_type": "code",
   "execution_count": 31,
   "metadata": {},
   "outputs": [
    {
     "name": "stdout",
     "output_type": "stream",
     "text": [
      "Loss Train 0.2742461562156677, Loss Test 0.2887748181819916\n"
     ]
    },
    {
     "data": {
      "image/png": "[encoded data removed]",
      "text/plain": [
       "<Figure size 432x288 with 1 Axes>"
      ]
     },
     "metadata": {
      "needs_background": "light"
     },
     "output_type": "display_data"
    }
   ],
   "source": [
    "# model perform better with early stopping from previous model test loss is 35% but with es test loss is 28% \n",
    "# which better than previous model\n",
    "plot_loss(history_4)"
   ]
  },
  {
   "cell_type": "markdown",
   "metadata": {},
   "source": [
    "### Part 9\n",
    "\n",
    "Adding `Dropout`.  Let's add a 5% dropout to the second layer, and a 20% dropout to the third layer and see if we end up stopping sooner or performing better."
   ]
  },
  {
   "cell_type": "code",
   "execution_count": 32,
   "metadata": {},
   "outputs": [],
   "source": [
    "# early stopping\n",
    "es = EarlyStopping(patience=5)\n",
    "# model_5\n",
    "# early stoping with 5 patiences --> input --> batchnormalization \n",
    "# --> hidden 64, 128(dropout = 5%), 64(dropout=20%) nodes --> output use relu in activation\n",
    "model_5 = Sequential()\n",
    "\n",
    "# input layer\n",
    "model_5.add(Dense(8, activation='relu', input_shape=(8,)))\n",
    "# hidden layer\n",
    "model_5.add(BatchNormalization())\n",
    "model_5.add(Dense(64, activation='relu'))\n",
    "model_5.add(Dense(128, activation='relu'))\n",
    "model_5.add(Dropout(.05))\n",
    "model_5.add(Dense(64, activation='relu'))\n",
    "model_5.add(Dropout(.2))\n",
    "# # output layer\n",
    "model_5.add(Dense(1, activation=None))"
   ]
  },
  {
   "cell_type": "code",
   "execution_count": 33,
   "metadata": {},
   "outputs": [],
   "source": [
    "# use adam for optimizer\n",
    "model_5.compile(loss='mean_squared_error', optimizer='adam')"
   ]
  },
  {
   "cell_type": "code",
   "execution_count": 34,
   "metadata": {},
   "outputs": [],
   "source": [
    "# fit model with 100 epochs\n",
    "history_5 = model_5.fit(X_train_sc, y_train,\n",
    "                   epochs=100,\n",
    "                   batch_size=128,\n",
    "                   validation_data=(X_test_sc, y_test),\n",
    "                   callbacks=[es],\n",
    "                   verbose=0)"
   ]
  },
  {
   "cell_type": "code",
   "execution_count": 35,
   "metadata": {},
   "outputs": [
    {
     "name": "stdout",
     "output_type": "stream",
     "text": [
      "Loss Train 0.3235343396663666, Loss Test 0.3985673785209656\n"
     ]
    },
    {
     "data": {
      "image/png": "[encoded data removed]",
      "text/plain": [
       "<Figure size 432x288 with 1 Axes>"
      ]
     },
     "metadata": {
      "needs_background": "light"
     },
     "output_type": "display_data"
    }
   ],
   "source": [
    "# model perform wrose than previous models which increase test loss 10% and also overfitting\n",
    "plot_loss(history_5)"
   ]
  },
  {
   "cell_type": "markdown",
   "metadata": {},
   "source": [
    "### Part 9 - continued: RMSE vs. Baseline\n",
    "\n",
    "Compare the model aboves performance to that of the baseline model for the data."
   ]
  },
  {
   "cell_type": "code",
   "execution_count": 36,
   "metadata": {},
   "outputs": [],
   "source": [
    "# create function for calculate RMSE score\n",
    "def cal_rmse(model, X_test_sc, y_test):\n",
    "    return round(mean_squared_error(y_test, model.predict(X_test_sc, verbose=0)), 2)"
   ]
  },
  {
   "cell_type": "code",
   "execution_count": 37,
   "metadata": {},
   "outputs": [
    {
     "name": "stdout",
     "output_type": "stream",
     "text": [
      "Baseline model RMSE score 0.57\n",
      "Model 2 RMSE score 0.27\n",
      "Model 3 RMSE score 0.34\n",
      "Model 4 RMSE score 0.29\n",
      "Model 5 RMSE score 0.4\n"
     ]
    }
   ],
   "source": [
    "print(f'Baseline model RMSE score {cal_rmse(model, X_test_sc_1, y_test_1)}')\n",
    "print(f'Model 2 RMSE score {cal_rmse(model_2, X_test_sc, y_test)}')\n",
    "print(f'Model 3 RMSE score {cal_rmse(model_3, X_test_sc, y_test)}')\n",
    "print(f'Model 4 RMSE score {cal_rmse(model_4, X_test_sc, y_test)}')\n",
    "print(f'Model 5 RMSE score {cal_rmse(model_5, X_test_sc, y_test)}')"
   ]
  },
  {
   "cell_type": "markdown",
   "metadata": {},
   "source": [
    "### Part 10: Regularization and Scaling\n",
    "\n",
    "Finally, we want to see if regularizing will improve the model.  Feed a model that is identical to the one above including dropout and include `l2` regularization in each of the dense layers of 0.01.  What is the RMSE of this model?  How does it compare to the baseline?"
   ]
  },
  {
   "cell_type": "code",
   "execution_count": 38,
   "metadata": {},
   "outputs": [],
   "source": [
    "# early stopping\n",
    "es = EarlyStopping(patience=5)\n",
    "# model_6\n",
    "# early stoping with 5 patiences --> input --> batchnormalization \n",
    "# --> hidden 64, 128(dropout = 5%), 64(dropout=20%) nodes --> output use relu in activation\n",
    "# all layers have L2 regularizer\n",
    "model_6 = Sequential()\n",
    "\n",
    "# input layer\n",
    "model_6.add(Dense(8, activation='relu', input_shape=(8,), kernel_regularizer=l2()))\n",
    "# hidden layer\n",
    "model_6.add(BatchNormalization())\n",
    "model_6.add(Dense(64, activation='relu', kernel_regularizer=l2()))\n",
    "model_6.add(Dense(128, activation='relu', kernel_regularizer=l2()))\n",
    "model_6.add(Dropout(.05))\n",
    "model_6.add(Dense(64, activation='relu', kernel_regularizer=l2()))\n",
    "model_6.add(Dropout(.2))\n",
    "# # output layer\n",
    "model_6.add(Dense(1, activation=None, kernel_regularizer=l2()))\n",
    "\n",
    "model_6.compile(loss='mean_squared_error', optimizer='adam')\n",
    "\n",
    "history_6 = model_6.fit(X_train_sc, y_train,\n",
    "                   epochs=100,\n",
    "                   batch_size=128,\n",
    "                   validation_data=(X_test_sc, y_test),\n",
    "                   callbacks=[es],\n",
    "                   verbose=0)"
   ]
  },
  {
   "cell_type": "code",
   "execution_count": 39,
   "metadata": {},
   "outputs": [
    {
     "name": "stdout",
     "output_type": "stream",
     "text": [
      "Loss Train 0.4270804822444916, Loss Test 0.4408905804157257\n"
     ]
    },
    {
     "data": {
      "image/png": "[encoded data removed]",
      "text/plain": [
       "<Figure size 432x288 with 1 Axes>"
      ]
     },
     "metadata": {
      "needs_background": "light"
     },
     "output_type": "display_data"
    }
   ],
   "source": [
    "# model perform worse than model_5 loss increase around 10% but no overfitting\n",
    "# maybe assign too much regularizer in each dense\n",
    "plot_loss(history_6)"
   ]
  },
  {
   "cell_type": "code",
   "execution_count": 40,
   "metadata": {},
   "outputs": [
    {
     "name": "stdout",
     "output_type": "stream",
     "text": [
      "Model 6 RMSE score 0.37\n"
     ]
    }
   ],
   "source": [
    "print(f'Model 6 RMSE score {cal_rmse(model_6, X_test_sc, y_test)}')"
   ]
  },
  {
   "cell_type": "markdown",
   "metadata": {},
   "source": [
    "#### Compare All models"
   ]
  },
  {
   "cell_type": "code",
   "execution_count": 49,
   "metadata": {},
   "outputs": [
    {
     "name": "stdout",
     "output_type": "stream",
     "text": [
      "Baseline model RMSE score 0.57\n",
      "Model 2 RMSE score 0.27\n",
      "Model 3 RMSE score 0.34\n",
      "Model 4 RMSE score 0.29\n",
      "Model 5 RMSE score 0.4\n",
      "Model 6 RMSE score 0.37\n"
     ]
    }
   ],
   "source": [
    "# RMSE of all models\n",
    "print(f'Baseline model RMSE score {cal_rmse(model, X_test_sc_1, y_test_1)}')\n",
    "print(f'Model 2 RMSE score {cal_rmse(model_2, X_test_sc, y_test)}')\n",
    "print(f'Model 3 RMSE score {cal_rmse(model_3, X_test_sc, y_test)}')\n",
    "print(f'Model 4 RMSE score {cal_rmse(model_4, X_test_sc, y_test)}')\n",
    "print(f'Model 5 RMSE score {cal_rmse(model_5, X_test_sc, y_test)}')\n",
    "print(f'Model 6 RMSE score {cal_rmse(model_6, X_test_sc, y_test)}')"
   ]
  },
  {
   "cell_type": "code",
   "execution_count": 42,
   "metadata": {},
   "outputs": [],
   "source": [
    "# create function for plot loss in model\n",
    "def plot_loss_compare(model, model_name,title=None):\n",
    "    print(f\"MSE Train {model.history['loss'][-1]}, MSE Test {model.history['val_loss'][-1]}\")\n",
    "    plt.title(str(f'{model_name} RMSE score {title}'))\n",
    "    plt.plot(model.history['loss'], label='Train')\n",
    "    plt.plot(model.history['val_loss'], label='Test')\n",
    "    plt.xlabel('Epochs')\n",
    "    plt.ylabel('Loss')\n",
    "    plt.legend();"
   ]
  },
  {
   "cell_type": "code",
   "execution_count": 43,
   "metadata": {},
   "outputs": [
    {
     "name": "stdout",
     "output_type": "stream",
     "text": [
      "MSE Train 0.5607776045799255, MSE Test 0.5701339244842529\n"
     ]
    },
    {
     "data": {
      "image/png": "[encoded data removed]",
      "text/plain": [
       "<Figure size 432x288 with 1 Axes>"
      ]
     },
     "metadata": {
      "needs_background": "light"
     },
     "output_type": "display_data"
    }
   ],
   "source": [
    "plot_loss_compare(history, '1st Model',cal_rmse(model, X_test_sc_1, y_test_1))"
   ]
  },
  {
   "cell_type": "code",
   "execution_count": 44,
   "metadata": {},
   "outputs": [
    {
     "name": "stdout",
     "output_type": "stream",
     "text": [
      "MSE Train 0.23001955449581146, MSE Test 0.273868203163147\n"
     ]
    },
    {
     "data": {
      "image/png": "[encoded data removed]",
      "text/plain": [
       "<Figure size 432x288 with 1 Axes>"
      ]
     },
     "metadata": {
      "needs_background": "light"
     },
     "output_type": "display_data"
    }
   ],
   "source": [
    "plot_loss_compare(history_2, '2rd Model',cal_rmse(model_2, X_test_sc, y_test))"
   ]
  },
  {
   "cell_type": "code",
   "execution_count": 45,
   "metadata": {},
   "outputs": [
    {
     "name": "stdout",
     "output_type": "stream",
     "text": [
      "MSE Train 0.24945305287837982, MSE Test 0.34202682971954346\n"
     ]
    },
    {
     "data": {
      "image/png": "[encoded data removed]",
      "text/plain": [
       "<Figure size 432x288 with 1 Axes>"
      ]
     },
     "metadata": {
      "needs_background": "light"
     },
     "output_type": "display_data"
    }
   ],
   "source": [
    "plot_loss_compare(history_3, '3rd Model',cal_rmse(model_3, X_test_sc, y_test))"
   ]
  },
  {
   "cell_type": "code",
   "execution_count": 46,
   "metadata": {},
   "outputs": [
    {
     "name": "stdout",
     "output_type": "stream",
     "text": [
      "MSE Train 0.2742461562156677, MSE Test 0.2887748181819916\n"
     ]
    },
    {
     "data": {
      "image/png": "[encoded data removed]",
      "text/plain": [
       "<Figure size 432x288 with 1 Axes>"
      ]
     },
     "metadata": {
      "needs_background": "light"
     },
     "output_type": "display_data"
    }
   ],
   "source": [
    "plot_loss_compare(history_4, '4th Model',cal_rmse(model_4, X_test_sc, y_test))"
   ]
  },
  {
   "cell_type": "code",
   "execution_count": 47,
   "metadata": {},
   "outputs": [
    {
     "name": "stdout",
     "output_type": "stream",
     "text": [
      "MSE Train 0.3235343396663666, MSE Test 0.3985673785209656\n"
     ]
    },
    {
     "data": {
      "image/png": "[encoded data removed]",
      "text/plain": [
       "<Figure size 432x288 with 1 Axes>"
      ]
     },
     "metadata": {
      "needs_background": "light"
     },
     "output_type": "display_data"
    }
   ],
   "source": [
    "plot_loss_compare(history_5, '5th Model',cal_rmse(model_5, X_test_sc, y_test))"
   ]
  },
  {
   "cell_type": "code",
   "execution_count": 48,
   "metadata": {},
   "outputs": [
    {
     "name": "stdout",
     "output_type": "stream",
     "text": [
      "MSE Train 0.4270804822444916, MSE Test 0.4408905804157257\n"
     ]
    },
    {
     "data": {
      "image/png": "[encoded data removed]",
      "text/plain": [
       "<Figure size 432x288 with 1 Axes>"
      ]
     },
     "metadata": {
      "needs_background": "light"
     },
     "output_type": "display_data"
    }
   ],
   "source": [
    "plot_loss_compare(history_6, '6th Model',cal_rmse(model_6, X_test_sc, y_test))"
   ]
  },
  {
   "cell_type": "markdown",
   "metadata": {},
   "source": [
    "From all models I choose second model which has less complexity than all of models.\n",
    "\n",
    "this is a structure of second model.\n",
    "\n",
    "input --> hidden 64, 128, 64 nodes --> output use relu in activation\n",
    "\n",
    "RMSE score from second model is 0.29"
   ]
  },
  {
   "cell_type": "markdown",
   "metadata": {},
   "source": [
    "### Part 11: Saving the Model\n",
    "\n",
    "Save the model as `cali_housing.h5`.  "
   ]
  },
  {
   "cell_type": "code",
   "execution_count": 50,
   "metadata": {},
   "outputs": [],
   "source": [
    "# save second model\n",
    "model_2.save('model/cali_housing.h5')"
   ]
  }
 ],
 "metadata": {
  "kernelspec": {
   "display_name": "Python 3 (ipykernel)",
   "language": "python",
   "name": "python3"
  },
  "language_info": {
   "codemirror_mode": {
    "name": "ipython",
    "version": 3
   },
   "file_extension": ".py",
   "mimetype": "text/x-python",
   "name": "python",
   "nbconvert_exporter": "python",
   "pygments_lexer": "ipython3",
   "version": "3.9.12"
  }
 },
 "nbformat": 4,
 "nbformat_minor": 4
}
